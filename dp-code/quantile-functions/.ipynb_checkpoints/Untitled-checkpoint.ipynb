{
 "cells": [
  {
   "cell_type": "code",
   "execution_count": 1,
   "metadata": {},
   "outputs": [],
   "source": [
    "import pandas as pd\n",
    "import os\n",
    "import numpy as np\n",
    "import ind_exp\n",
    "import joint_exp\n",
    "import smooth\n",
    "import csv\n",
    "import time"
   ]
  },
  {
   "cell_type": "code",
   "execution_count": 2,
   "metadata": {},
   "outputs": [],
   "source": [
    "data = pd.read_csv(\"../../../../temp_pums.csv\", usecols=[\"INCWAGE\", \"ASECFLAG\", \"RELATE\"])\n",
    "sub_data = data[data[\"ASECFLAG\"] == 1 & data[\"RELATE\"].isin([\"101\", \"201\"])]\n",
    "db = np.sort(pd.to_numeric(sub_data[\"INCWAGE\"]))\n",
    "\n",
    "nrep = 1\n",
    "\n",
    "ind_opt = ind_exp.opt_comp_calculator(1, 1e-6, 9)\n",
    "\n",
    "cols = ['0.1', '0.2', '0.3', '0.4', '0.5', '0.6', '0.7', '0.8', '0.9']\n",
    "ind_output = []\n",
    "joint_output = []\n",
    "smooth_output = []"
   ]
  },
  {
   "cell_type": "code",
   "execution_count": 5,
   "metadata": {},
   "outputs": [
    {
     "name": "stderr",
     "output_type": "stream",
     "text": [
      "/Users/jsnoke/Documents/Urban_Validation_Server/Code/formal-privacy-comp/dp-code/quantile-functions/ind_exp.py:124: RuntimeWarning: divide by zero encountered in log\n",
      "  np.log(data_gaps) +\n",
      "/Users/jsnoke/Documents/Urban_Validation_Server/Code/formal-privacy-comp/dp-code/quantile-functions/joint_exp.py:117: RuntimeWarning: divide by zero encountered in log\n",
      "  data_intervals_log_sizes = np.log(data_intervals[:, 1] - data_intervals[:, 0])\n",
      "/Users/jsnoke/Documents/Urban_Validation_Server/Code/formal-privacy-comp/dp-code/quantile-functions/joint_exp.py:118: RuntimeWarning: divide by zero encountered in log\n",
      "  log_alpha = np.log(np.zeros([num_quantiles, num_intervals, num_quantiles]))\n",
      "/Users/jsnoke/Documents/Urban_Validation_Server/Code/formal-privacy-comp/dp-code/quantile-functions/joint_exp.py:97: RuntimeWarning: divide by zero encountered in log\n",
      "  np.log(y, out=y)\n",
      "/Users/jsnoke/Documents/Urban_Validation_Server/Code/formal-privacy-comp/dp-code/quantile-functions/smooth_utils.py:102: RuntimeWarning: divide by zero encountered in log\n",
      "  local_sensitivities)\n"
     ]
    }
   ],
   "source": [
    "time_in = time.perf_counter()\n",
    "for loop in range(nrep):\n",
    "\tind_out = pd.to_numeric(ind_exp.ind_exp(db, 0, 1000000, pd.to_numeric([0.1, 0.2, 0.3, 0.4, 0.5, 0.6, 0.7, 0.8, 0.9]), ind_opt, True))\n",
    "\tind_output.append(ind_out)\n",
    "\n",
    "\tjoint_out = pd.to_numeric(joint_exp.joint_exp(db, 0, 1000000, pd.to_numeric([0.1, 0.2, 0.3, 0.4, 0.5, 0.6, 0.7, 0.8, 0.9]), 1, True))\n",
    "\tjoint_output.append(joint_out)\n",
    "\n",
    "\tsmooth_out = pd.to_numeric(smooth.smooth(db, 0, 1000000, pd.to_numeric([0.1, 0.2, 0.3, 0.4, 0.5, 0.6, 0.7, 0.8, 0.9]), 1 / 9, 1e-6))\n",
    "\tsmooth_output.append(smooth_out)\n",
    "time_out = time.perf_counter()"
   ]
  },
  {
   "cell_type": "code",
   "execution_count": 7,
   "metadata": {},
   "outputs": [
    {
     "name": "stdout",
     "output_type": "stream",
     "text": [
      "Ran in 11.9739 seconds\n"
     ]
    }
   ],
   "source": [
    "print(f\"Ran in {time_out - time_in:0.4f} seconds\")\n",
    "\n",
    "ind_df = pd.DataFrame(ind_output, columns = cols)\n",
    "#ind_df.to_csv('ind_exp_output.csv')\n",
    "\n",
    "joint_df = pd.DataFrame(joint_output, columns = cols)\n",
    "#joint_df.to_csv('joint_exp_output.csv')\n",
    "\n",
    "smooth_df = pd.DataFrame(smooth_output, columns = cols)\n",
    "#smooth_df.to_csv('smooth_output.csv')"
   ]
  },
  {
   "cell_type": "code",
   "execution_count": 8,
   "metadata": {},
   "outputs": [
    {
     "data": {
      "text/html": [
       "<div>\n",
       "<style scoped>\n",
       "    .dataframe tbody tr th:only-of-type {\n",
       "        vertical-align: middle;\n",
       "    }\n",
       "\n",
       "    .dataframe tbody tr th {\n",
       "        vertical-align: top;\n",
       "    }\n",
       "\n",
       "    .dataframe thead th {\n",
       "        text-align: right;\n",
       "    }\n",
       "</style>\n",
       "<table border=\"1\" class=\"dataframe\">\n",
       "  <thead>\n",
       "    <tr style=\"text-align: right;\">\n",
       "      <th></th>\n",
       "      <th>0.1</th>\n",
       "      <th>0.2</th>\n",
       "      <th>0.3</th>\n",
       "      <th>0.4</th>\n",
       "      <th>0.5</th>\n",
       "      <th>0.6</th>\n",
       "      <th>0.7</th>\n",
       "      <th>0.8</th>\n",
       "      <th>0.9</th>\n",
       "    </tr>\n",
       "  </thead>\n",
       "  <tbody>\n",
       "    <tr>\n",
       "      <th>0</th>\n",
       "      <td>6.111764</td>\n",
       "      <td>8.560129</td>\n",
       "      <td>34.050769</td>\n",
       "      <td>6483.874338</td>\n",
       "      <td>19018.023138</td>\n",
       "      <td>29967.583377</td>\n",
       "      <td>40000.403638</td>\n",
       "      <td>54266.390143</td>\n",
       "      <td>79441.574400</td>\n",
       "    </tr>\n",
       "    <tr>\n",
       "      <th>1</th>\n",
       "      <td>6.228255</td>\n",
       "      <td>7.955970</td>\n",
       "      <td>20.799893</td>\n",
       "      <td>6496.098870</td>\n",
       "      <td>19041.128309</td>\n",
       "      <td>29982.612412</td>\n",
       "      <td>40106.319280</td>\n",
       "      <td>54388.429778</td>\n",
       "      <td>79406.096531</td>\n",
       "    </tr>\n",
       "    <tr>\n",
       "      <th>2</th>\n",
       "      <td>6.465619</td>\n",
       "      <td>19.689928</td>\n",
       "      <td>38.596715</td>\n",
       "      <td>6421.222858</td>\n",
       "      <td>19184.778911</td>\n",
       "      <td>29647.594770</td>\n",
       "      <td>40035.592819</td>\n",
       "      <td>54050.743660</td>\n",
       "      <td>79672.911102</td>\n",
       "    </tr>\n",
       "  </tbody>\n",
       "</table>\n",
       "</div>"
      ],
      "text/plain": [
       "        0.1        0.2        0.3          0.4           0.5           0.6  \\\n",
       "0  6.111764   8.560129  34.050769  6483.874338  19018.023138  29967.583377   \n",
       "1  6.228255   7.955970  20.799893  6496.098870  19041.128309  29982.612412   \n",
       "2  6.465619  19.689928  38.596715  6421.222858  19184.778911  29647.594770   \n",
       "\n",
       "            0.7           0.8           0.9  \n",
       "0  40000.403638  54266.390143  79441.574400  \n",
       "1  40106.319280  54388.429778  79406.096531  \n",
       "2  40035.592819  54050.743660  79672.911102  "
      ]
     },
     "execution_count": 8,
     "metadata": {},
     "output_type": "execute_result"
    }
   ],
   "source": [
    "ind_df"
   ]
  },
  {
   "cell_type": "code",
   "execution_count": 9,
   "metadata": {},
   "outputs": [
    {
     "data": {
      "text/html": [
       "<div>\n",
       "<style scoped>\n",
       "    .dataframe tbody tr th:only-of-type {\n",
       "        vertical-align: middle;\n",
       "    }\n",
       "\n",
       "    .dataframe tbody tr th {\n",
       "        vertical-align: top;\n",
       "    }\n",
       "\n",
       "    .dataframe thead th {\n",
       "        text-align: right;\n",
       "    }\n",
       "</style>\n",
       "<table border=\"1\" class=\"dataframe\">\n",
       "  <thead>\n",
       "    <tr style=\"text-align: right;\">\n",
       "      <th></th>\n",
       "      <th>0.1</th>\n",
       "      <th>0.2</th>\n",
       "      <th>0.3</th>\n",
       "      <th>0.4</th>\n",
       "      <th>0.5</th>\n",
       "      <th>0.6</th>\n",
       "      <th>0.7</th>\n",
       "      <th>0.8</th>\n",
       "      <th>0.9</th>\n",
       "    </tr>\n",
       "  </thead>\n",
       "  <tbody>\n",
       "    <tr>\n",
       "      <th>0</th>\n",
       "      <td>0.000000</td>\n",
       "      <td>0.000000</td>\n",
       "      <td>0.560872</td>\n",
       "      <td>4833.457593</td>\n",
       "      <td>17999.309964</td>\n",
       "      <td>28042.444635</td>\n",
       "      <td>39804.688326</td>\n",
       "      <td>53998.742307</td>\n",
       "      <td>79749.539404</td>\n",
       "    </tr>\n",
       "    <tr>\n",
       "      <th>1</th>\n",
       "      <td>6.491784</td>\n",
       "      <td>16.287868</td>\n",
       "      <td>40.504462</td>\n",
       "      <td>4842.240117</td>\n",
       "      <td>17997.590528</td>\n",
       "      <td>28095.265747</td>\n",
       "      <td>39775.388789</td>\n",
       "      <td>53559.053090</td>\n",
       "      <td>79780.415499</td>\n",
       "    </tr>\n",
       "    <tr>\n",
       "      <th>2</th>\n",
       "      <td>0.000000</td>\n",
       "      <td>0.000000</td>\n",
       "      <td>0.641717</td>\n",
       "      <td>4889.423353</td>\n",
       "      <td>17996.973011</td>\n",
       "      <td>28015.492078</td>\n",
       "      <td>39888.626258</td>\n",
       "      <td>53540.880525</td>\n",
       "      <td>79057.135446</td>\n",
       "    </tr>\n",
       "  </tbody>\n",
       "</table>\n",
       "</div>"
      ],
      "text/plain": [
       "        0.1        0.2        0.3          0.4           0.5           0.6  \\\n",
       "0  0.000000   0.000000   0.560872  4833.457593  17999.309964  28042.444635   \n",
       "1  6.491784  16.287868  40.504462  4842.240117  17997.590528  28095.265747   \n",
       "2  0.000000   0.000000   0.641717  4889.423353  17996.973011  28015.492078   \n",
       "\n",
       "            0.7           0.8           0.9  \n",
       "0  39804.688326  53998.742307  79749.539404  \n",
       "1  39775.388789  53559.053090  79780.415499  \n",
       "2  39888.626258  53540.880525  79057.135446  "
      ]
     },
     "execution_count": 9,
     "metadata": {},
     "output_type": "execute_result"
    }
   ],
   "source": [
    "joint_df"
   ]
  },
  {
   "cell_type": "code",
   "execution_count": 10,
   "metadata": {},
   "outputs": [
    {
     "data": {
      "text/html": [
       "<div>\n",
       "<style scoped>\n",
       "    .dataframe tbody tr th:only-of-type {\n",
       "        vertical-align: middle;\n",
       "    }\n",
       "\n",
       "    .dataframe tbody tr th {\n",
       "        vertical-align: top;\n",
       "    }\n",
       "\n",
       "    .dataframe thead th {\n",
       "        text-align: right;\n",
       "    }\n",
       "</style>\n",
       "<table border=\"1\" class=\"dataframe\">\n",
       "  <thead>\n",
       "    <tr style=\"text-align: right;\">\n",
       "      <th></th>\n",
       "      <th>0.1</th>\n",
       "      <th>0.2</th>\n",
       "      <th>0.3</th>\n",
       "      <th>0.4</th>\n",
       "      <th>0.5</th>\n",
       "      <th>0.6</th>\n",
       "      <th>0.7</th>\n",
       "      <th>0.8</th>\n",
       "      <th>0.9</th>\n",
       "    </tr>\n",
       "  </thead>\n",
       "  <tbody>\n",
       "    <tr>\n",
       "      <th>0</th>\n",
       "      <td>0.0</td>\n",
       "      <td>1.942242e-26</td>\n",
       "      <td>1.645278e-07</td>\n",
       "      <td>20657.067906</td>\n",
       "      <td>21607.627693</td>\n",
       "      <td>31577.381990</td>\n",
       "      <td>39990.445536</td>\n",
       "      <td>73805.909453</td>\n",
       "      <td>80252.656318</td>\n",
       "    </tr>\n",
       "    <tr>\n",
       "      <th>1</th>\n",
       "      <td>0.0</td>\n",
       "      <td>1.074003e-45</td>\n",
       "      <td>2.065363e-26</td>\n",
       "      <td>3064.210533</td>\n",
       "      <td>21572.125497</td>\n",
       "      <td>30253.806959</td>\n",
       "      <td>39929.613271</td>\n",
       "      <td>52057.874057</td>\n",
       "      <td>105725.217336</td>\n",
       "    </tr>\n",
       "  </tbody>\n",
       "</table>\n",
       "</div>"
      ],
      "text/plain": [
       "   0.1           0.2           0.3           0.4           0.5           0.6  \\\n",
       "0  0.0  1.942242e-26  1.645278e-07  20657.067906  21607.627693  31577.381990   \n",
       "1  0.0  1.074003e-45  2.065363e-26   3064.210533  21572.125497  30253.806959   \n",
       "\n",
       "            0.7           0.8            0.9  \n",
       "0  39990.445536  73805.909453   80252.656318  \n",
       "1  39929.613271  52057.874057  105725.217336  "
      ]
     },
     "execution_count": 10,
     "metadata": {},
     "output_type": "execute_result"
    }
   ],
   "source": [
    "smooth_df"
   ]
  },
  {
   "cell_type": "code",
   "execution_count": null,
   "metadata": {},
   "outputs": [],
   "source": []
  }
 ],
 "metadata": {
  "kernelspec": {
   "display_name": "Python 3",
   "language": "python",
   "name": "python3"
  },
  "language_info": {
   "codemirror_mode": {
    "name": "ipython",
    "version": 3
   },
   "file_extension": ".py",
   "mimetype": "text/x-python",
   "name": "python",
   "nbconvert_exporter": "python",
   "pygments_lexer": "ipython3",
   "version": "3.6.8"
  }
 },
 "nbformat": 4,
 "nbformat_minor": 2
}
